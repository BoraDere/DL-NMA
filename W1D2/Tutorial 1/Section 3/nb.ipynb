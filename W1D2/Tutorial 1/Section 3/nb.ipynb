{
 "cells": [
  {
   "cell_type": "code",
   "execution_count": 5,
   "metadata": {},
   "outputs": [],
   "source": [
    "import torch\n",
    "import torch.nn as nn\n",
    "import matplotlib.pyplot as plt\n",
    "import math"
   ]
  },
  {
   "cell_type": "code",
   "execution_count": 2,
   "metadata": {},
   "outputs": [
    {
     "data": {
      "text/plain": [
       "<torch._C.Generator at 0x1f34fe63890>"
      ]
     },
     "execution_count": 2,
     "metadata": {},
     "output_type": "execute_result"
    }
   ],
   "source": [
    "torch.manual_seed(42)"
   ]
  },
  {
   "cell_type": "code",
   "execution_count": 6,
   "metadata": {},
   "outputs": [
    {
     "data": {
      "image/png": "[encoded data removed]",
      "text/plain": [
       "<Figure size 800x500 with 1 Axes>"
      ]
     },
     "metadata": {},
     "output_type": "display_data"
    }
   ],
   "source": [
    "n_samples = 32\n",
    "inputs = torch.linspace(-1.0, 1.0, n_samples).reshape(n_samples, 1)\n",
    "noise = torch.randn(n_samples, 1) / 4\n",
    "targets = torch.sin(math.pi * inputs) + noise\n",
    "plt.figure(figsize=(8, 5))\n",
    "plt.scatter(inputs, targets, c='c')\n",
    "plt.xlabel('x (inputs)')\n",
    "plt.ylabel('y (targets)')\n",
    "plt.show()"
   ]
  },
  {
   "cell_type": "code",
   "execution_count": 9,
   "metadata": {},
   "outputs": [],
   "source": [
    "class WideNet(nn.Module):\n",
    "  \"\"\"\n",
    "   A Wide neural network with a single hidden layer\n",
    "   Structure is as follows:\n",
    "   nn.Sequential(\n",
    "        nn.Linear(1, n_cells) + nn.Tanh(), # Fully connected layer with tanh activation\n",
    "        nn.Linear(n_cells, 1) # Final fully connected layer\n",
    "    )\n",
    "  \"\"\"\n",
    "\n",
    "  def __init__(self):\n",
    "    \"\"\"\n",
    "    Initializing the parameters of WideNet\n",
    "\n",
    "    Args:\n",
    "      None\n",
    "\n",
    "    Returns:\n",
    "      Nothing\n",
    "    \"\"\"\n",
    "    n_cells = 512\n",
    "    super().__init__()\n",
    "    self.layers = nn.Sequential(\n",
    "        nn.Linear(1, n_cells),\n",
    "        nn.Tanh(),\n",
    "        nn.Linear(n_cells, 1),\n",
    "    )\n",
    "\n",
    "  def forward(self, x):\n",
    "    \"\"\"\n",
    "    Forward pass of WideNet\n",
    "\n",
    "    Args:\n",
    "      x: torch.Tensor\n",
    "        2D tensor of features\n",
    "\n",
    "    Returns:\n",
    "      Torch tensor of model predictions\n",
    "    \"\"\"\n",
    "    return self.layers(x)"
   ]
  },
  {
   "cell_type": "code",
   "execution_count": 11,
   "metadata": {},
   "outputs": [
    {
     "name": "stdout",
     "output_type": "stream",
     "text": [
      "WideNet(\n",
      "  (layers): Sequential(\n",
      "    (0): Linear(in_features=1, out_features=512, bias=True)\n",
      "    (1): Tanh()\n",
      "    (2): Linear(in_features=512, out_features=1, bias=True)\n",
      "  )\n",
      ")\n"
     ]
    }
   ],
   "source": [
    "wide_net = WideNet()\n",
    "print(wide_net)"
   ]
  },
  {
   "cell_type": "code",
   "execution_count": 12,
   "metadata": {},
   "outputs": [],
   "source": [
    "loss_function = nn.MSELoss()\n",
    "\n",
    "lr = 0.001\n",
    "sgd_optimizer = torch.optim.SGD(wide_net.parameters(), lr=lr, momentum=0.9)"
   ]
  },
  {
   "cell_type": "code",
   "execution_count": 29,
   "metadata": {},
   "outputs": [
    {
     "name": "stdout",
     "output_type": "stream",
     "text": [
      "Loss: 0.24409201741218567\n"
     ]
    }
   ],
   "source": [
    "# Reset all gradients to zero\n",
    "sgd_optimizer.zero_grad()\n",
    "\n",
    "# Forward pass (Compute the output of the model on the features (inputs))\n",
    "prediction = wide_net(inputs)\n",
    "\n",
    "# Compute the loss\n",
    "loss = loss_function(prediction, targets)\n",
    "print(f'Loss: {loss.item()}')\n",
    "\n",
    "# Perform backpropagation to build the graph and compute the gradients\n",
    "loss.backward()\n",
    "\n",
    "# Optimizer takes a tiny step in the steepest direction (negative of gradient)\n",
    "# and \"updates\" the weights and biases of the network\n",
    "sgd_optimizer.step()"
   ]
  },
  {
   "cell_type": "markdown",
   "metadata": {},
   "source": [
    "---"
   ]
  },
  {
   "cell_type": "markdown",
   "metadata": {},
   "source": [
    "## Exercise 3.1"
   ]
  },
  {
   "cell_type": "code",
   "execution_count": null,
   "metadata": {},
   "outputs": [],
   "source": [
    "def train(features, labels, model, loss_fun, optimizer, n_epochs):\n",
    "  \"\"\"\n",
    "  Training function\n",
    "\n",
    "  Args:\n",
    "    features: torch.Tensor\n",
    "      Features (input) with shape torch.Size([n_samples, 1])\n",
    "    labels: torch.Tensor\n",
    "      Labels (targets) with shape torch.Size([n_samples, 1])\n",
    "    model: torch nn.Module\n",
    "      The neural network\n",
    "    loss_fun: function\n",
    "      Loss function\n",
    "    optimizer: function\n",
    "      Optimizer\n",
    "    n_epochs: int\n",
    "      Number of training iterations\n",
    "\n",
    "  Returns:\n",
    "    loss_record: list\n",
    "      Record (evolution) of training losses\n",
    "  \"\"\"\n",
    "  loss_record = []  # Keeping recods of loss\n",
    "\n",
    "  for i in range(n_epochs):\n",
    "    #################################################\n",
    "    ## Implement the missing parts of the training loop\n",
    "    # Complete the function and remove or comment the line below\n",
    "    raise NotImplementedError(\"Training loop `train`\")\n",
    "    #################################################\n",
    "    ...  # Set gradients to 0\n",
    "    predictions = ...  # Compute model prediction (output)\n",
    "    loss = ...  # Compute the loss\n",
    "    ...  # Compute gradients (backward pass)\n",
    "    ...  # Update parameters (optimizer takes a step)\n",
    "\n",
    "    loss_record.append(loss.item())\n",
    "  return loss_record\n",
    "\n",
    "\n",
    "\n",
    "set_seed(seed=2021)\n",
    "epochs = 1847 # Cauchy, Exercices d'analyse et de physique mathematique (1847)\n",
    "## Uncomment to run\n",
    "# losses = train(inputs, targets, wide_net, loss_function, sgd_optimizer, epochs)\n",
    "# ex3_plot(wide_net, inputs, targets, epochs, losses)"
   ]
  },
  {
   "cell_type": "code",
   "execution_count": 31,
   "metadata": {},
   "outputs": [],
   "source": [
    "def train(features, labels, model, loss_fun, optimizer, n_epochs):\n",
    "  \"\"\"\n",
    "  Training function\n",
    "\n",
    "  Args:\n",
    "    features: torch.Tensor\n",
    "      Features (input) with shape torch.Size([n_samples, 1])\n",
    "    labels: torch.Tensor\n",
    "      Labels (targets) with shape torch.Size([n_samples, 1])\n",
    "    model: torch nn.Module\n",
    "      The neural network\n",
    "    loss_fun: function\n",
    "      Loss function\n",
    "    optimizer: function\n",
    "      Optimizer\n",
    "    n_epochs: int\n",
    "      Number of training iterations\n",
    "\n",
    "  Returns:\n",
    "    loss_record: list\n",
    "      Record (evolution) of training losses\n",
    "  \"\"\"\n",
    "  loss_record = []  # Keeping recods of loss\n",
    "\n",
    "  for i in range(n_epochs):\n",
    "    optimizer.zero_grad()  # Set gradients to 0\n",
    "    predictions = model(features)  # Compute model prediction (output)\n",
    "    loss = loss_fun(predictions, labels)  # Compute the loss\n",
    "    loss.backward()  # Compute gradients (backward pass)\n",
    "    optimizer.step()  # Update parameters (optimizer takes a step)\n",
    "\n",
    "    loss_record.append(loss.item())\n",
    "  return loss_record\n",
    "\n",
    "\n",
    "\n",
    "epochs = 1847 # Cauchy, Exercices d'analyse et de physique mathematique (1847)\n",
    "# Uncomment to run\n",
    "losses = train(inputs, targets, wide_net, loss_function, sgd_optimizer, epochs)"
   ]
  }
 ],
 "metadata": {
  "kernelspec": {
   "display_name": "Python 3",
   "language": "python",
   "name": "python3"
  },
  "language_info": {
   "codemirror_mode": {
    "name": "ipython",
    "version": 3
   },
   "file_extension": ".py",
   "mimetype": "text/x-python",
   "name": "python",
   "nbconvert_exporter": "python",
   "pygments_lexer": "ipython3",
   "version": "3.10.0"
  }
 },
 "nbformat": 4,
 "nbformat_minor": 2
}
