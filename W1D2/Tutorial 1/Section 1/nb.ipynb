{
 "cells": [
  {
   "cell_type": "code",
   "execution_count": 1,
   "metadata": {},
   "outputs": [],
   "source": [
    "import torch\n",
    "import numpy as np\n",
    "from torch import nn\n",
    "import math\n",
    "import matplotlib.pyplot as plt"
   ]
  },
  {
   "cell_type": "code",
   "execution_count": 2,
   "metadata": {},
   "outputs": [],
   "source": [
    "np.random.seed(42)\n",
    "torch.manual_seed(42)\n",
    "DEVICE = 'cuda'"
   ]
  },
  {
   "cell_type": "markdown",
   "metadata": {},
   "source": [
    "---"
   ]
  },
  {
   "cell_type": "markdown",
   "metadata": {},
   "source": [
    "## Exercise 1.1"
   ]
  },
  {
   "cell_type": "code",
   "execution_count": 3,
   "metadata": {},
   "outputs": [],
   "source": [
    "def fun_z(x, y):\n",
    "  \"\"\"\n",
    "  Implements function sin(x^2 + y^2)\n",
    "\n",
    "  Args:\n",
    "    x: (float, np.ndarray)\n",
    "      Variable x\n",
    "    y: (float, np.ndarray)\n",
    "      Variable y\n",
    "\n",
    "  Returns:\n",
    "    z: (float, np.ndarray)\n",
    "      sin(x^2 + y^2)\n",
    "  \"\"\"\n",
    "  z = np.sin(x**2 + y**2)\n",
    "  return z\n",
    "\n",
    "\n",
    "def fun_dz(x, y):\n",
    "  \"\"\"\n",
    "  Implements function sin(x^2 + y^2)\n",
    "\n",
    "  Args:\n",
    "    x: (float, np.ndarray)\n",
    "      Variable x\n",
    "    y: (float, np.ndarray)\n",
    "      Variable y\n",
    "\n",
    "  Returns:\n",
    "    Tuple of gradient vector for sin(x^2 + y^2)\n",
    "  \"\"\"\n",
    "  #################################################\n",
    "  ## Implement the function which returns gradient vector\n",
    "  ## Complete the partial derivatives dz_dx and dz_dy\n",
    "  # Complete the function and remove or comment the line below\n",
    "  raise NotImplementedError(\"Gradient function `fun_dz`\")\n",
    "  #################################################\n",
    "  dz_dx = ...\n",
    "  dz_dy = ...\n",
    "  return (dz_dx, dz_dy)\n",
    "\n",
    "\n",
    "## Uncomment to run\n",
    "# ex1_plot(fun_z, fun_dz)"
   ]
  },
  {
   "cell_type": "code",
   "execution_count": 4,
   "metadata": {},
   "outputs": [],
   "source": [
    "def fun_z(x, y):\n",
    "  \"\"\"\n",
    "  Implements function sin(x^2 + y^2)\n",
    "\n",
    "  Args:\n",
    "    x: (float, np.ndarray)\n",
    "      Variable x\n",
    "    y: (float, np.ndarray)\n",
    "      Variable y\n",
    "\n",
    "  Returns:\n",
    "    z: (float, np.ndarray)\n",
    "      sin(x^2 + y^2)\n",
    "  \"\"\"\n",
    "  z = np.sin(x**2 + y**2)\n",
    "  return z\n",
    "\n",
    "\n",
    "def fun_dz(x, y):\n",
    "  \"\"\"\n",
    "  Implements function sin(x^2 + y^2)\n",
    "\n",
    "  Args:\n",
    "    x: (float, np.ndarray)\n",
    "      Variable x\n",
    "    y: (float, np.ndarray)\n",
    "      Variable y\n",
    "\n",
    "  Returns:\n",
    "    Tuple of gradient vector for sin(x^2 + y^2)\n",
    "  \"\"\"\n",
    "  dz_dx = math.cos(x**2 + y**2) * 2*x\n",
    "  dz_dy = math.cos(x**2 + y**2) * 2*y\n",
    "  return (dz_dx, dz_dy)\n",
    "\n",
    "\n",
    "## Uncomment to run\n",
    "# ex1_plot(fun_z, fun_dz)"
   ]
  },
  {
   "cell_type": "markdown",
   "metadata": {},
   "source": [
    "---"
   ]
  }
 ],
 "metadata": {
  "kernelspec": {
   "display_name": "Python 3",
   "language": "python",
   "name": "python3"
  },
  "language_info": {
   "codemirror_mode": {
    "name": "ipython",
    "version": 3
   },
   "file_extension": ".py",
   "mimetype": "text/x-python",
   "name": "python",
   "nbconvert_exporter": "python",
   "pygments_lexer": "ipython3",
   "version": "3.10.0"
  }
 },
 "nbformat": 4,
 "nbformat_minor": 2
}
